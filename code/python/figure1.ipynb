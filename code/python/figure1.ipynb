{
    "cells": [
        {
            "cell_type": "markdown",
            "source": [
                "# Figure 1. Accuracy over training epoch"
            ],
            "metadata": {}
        },
        {
            "cell_type": "markdown",
            "source": [
                "## Import libraries"
            ],
            "metadata": {}
        },
        {
            "cell_type": "code",
            "execution_count": null,
            "source": [
                "import pandas as pd\r\n",
                "import altair as alt\r\n",
                "from helper import RawData, apply_font_size"
            ],
            "outputs": [],
            "metadata": {}
        },
        {
            "cell_type": "markdown",
            "source": [
                "## Import part I data"
            ],
            "metadata": {}
        },
        {
            "cell_type": "code",
            "execution_count": null,
            "source": [
                "raw = RawData(\"../../data/data_part1_1250.csv\")"
            ],
            "outputs": [],
            "metadata": {}
        },
        {
            "cell_type": "markdown",
            "source": [
                "## Function for plotting figure 1"
            ],
            "metadata": {}
        },
        {
            "cell_type": "code",
            "execution_count": null,
            "source": [
                "def fig1(sim_df:pd.DataFrame, font_size:int=18) -> alt.Chart:\r\n",
                "    \"\"\"Plot accuracy by condition and word type over epoch\"\"\"\r\n",
                "\r\n",
                "    df = sim_df.copy()\r\n",
                "    df[\"condition\"] = df.cond.apply(lambda x: \"NW\" if x in (\"NW_AMB\", \"NW_UN\") else x)\r\n",
                "    df = df.groupby([\"epoch\", \"condition\"]).mean().reset_index()\r\n",
                "\r\n",
                "    plot = alt.Chart(df).mark_line().encode(\r\n",
                "                x=alt.X(\"epoch:Q\", title=\"Sample (Mil.)\"),\r\n",
                "                y=alt.Y(\"score:Q\", title=\"Accuracy\", scale=alt.Scale(domain=(0, 1))),\r\n",
                "                color=alt.Color(\r\n",
                "                    \"condition:N\",\r\n",
                "                    legend=alt.Legend(orient=\"bottom-right\"),\r\n",
                "                    title=\"Stimulus\",\r\n",
                "                ),\r\n",
                "                strokeDash=alt.condition(\r\n",
                "                    alt.datum.condition == \"NW\", alt.value([5, 5]), alt.value([0])\r\n",
                "                )\r\n",
                "            ).properties(width=400, height=300)\r\n",
                "\r\n",
                "    return apply_font_size(plot, font_size)"
            ],
            "outputs": [],
            "metadata": {}
        },
        {
            "cell_type": "markdown",
            "source": [
                "## Plotting figure 1 from part I raw data "
            ],
            "metadata": {}
        },
        {
            "cell_type": "code",
            "execution_count": null,
            "source": [
                "fig1(raw.df)"
            ],
            "outputs": [],
            "metadata": {}
        },
        {
            "cell_type": "markdown",
            "source": [
                "Figure 1. Accuracy over training epoch (in fractions of a million samples) including high-frequency consistent words (HF_CON), high-frequency inconsistent words (HF_INC), low-frequency consistent words (LF_CON), low-frequency inconsistent words (LF_INC), as well as overall nonwords (NW). "
            ],
            "metadata": {}
        }
    ],
    "metadata": {
        "orig_nbformat": 4,
        "language_info": {
            "name": "python",
            "version": "3.7.10",
            "mimetype": "text/x-python",
            "codemirror_mode": {
                "name": "ipython",
                "version": 3
            },
            "pygments_lexer": "ipython3",
            "nbconvert_exporter": "python",
            "file_extension": ".py"
        },
        "kernelspec": {
            "name": "python3",
            "display_name": "Python 3.7.10 64-bit ('base': conda)"
        },
        "interpreter": {
            "hash": "280b7e50828e23ca5d9e559e41b302061c59f2723c8a67cae862a91c4175be70"
        }
    },
    "nbformat": 4,
    "nbformat_minor": 2
}