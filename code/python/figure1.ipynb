{
    "cells": [
        {
            "cell_type": "markdown",
            "source": [
                "# Figure 1. Accuracy over training epoch"
            ],
            "metadata": {}
        },
        {
            "cell_type": "markdown",
            "source": [
                "## Import libraries"
            ],
            "metadata": {}
        },
        {
            "cell_type": "code",
            "execution_count": 2,
            "source": [
                "import pandas as pd\r\n",
                "import altair as alt\r\n",
                "from helper import RawData"
            ],
            "outputs": [],
            "metadata": {}
        },
        {
            "cell_type": "markdown",
            "source": [
                "## Import part I data"
            ],
            "metadata": {}
        },
        {
            "cell_type": "code",
            "execution_count": 3,
            "source": [
                "raw = RawData(\"../../data/data_part1_1250.csv\")"
            ],
            "outputs": [],
            "metadata": {}
        },
        {
            "cell_type": "markdown",
            "source": [
                "## Function for plotting figure 1"
            ],
            "metadata": {}
        },
        {
            "cell_type": "code",
            "execution_count": 4,
            "source": [
                "def fig1(sim_df:pd.DataFrame, font_size:int=18) -> alt.Chart:\r\n",
                "    \"\"\"Plot accuracy by condition and word type over epoch\"\"\"\r\n",
                "\r\n",
                "    df = sim_df.copy()\r\n",
                "    df[\"condition\"] = df.cond.apply(lambda x: \"NW\" if x in (\"NW_AMB\", \"NW_UN\") else x)\r\n",
                "    df = df.groupby([\"epoch\", \"condition\"]).mean().reset_index()\r\n",
                "\r\n",
                "    return (\r\n",
                "        alt.Chart(df)\r\n",
                "        .mark_line()\r\n",
                "        .encode(\r\n",
                "            x=alt.X(\"epoch:Q\", title=\"Sample (Mil.)\"),\r\n",
                "            y=alt.Y(\"score:Q\", title=\"Accuracy\", scale=alt.Scale(domain=(0, 1))),\r\n",
                "            color=alt.Color(\r\n",
                "                \"condition:N\",\r\n",
                "                legend=alt.Legend(orient=\"bottom-right\"),\r\n",
                "                title=\"Condition\",\r\n",
                "            ),\r\n",
                "            strokeDash=alt.condition(\r\n",
                "                alt.datum.condition == \"NW\", alt.value([5, 5]), alt.value([0])\r\n",
                "            ),\r\n",
                "        )\r\n",
                "        .configure_axis(labelFontSize=font_size, titleFontSize=font_size)\r\n",
                "        .configure_header(labelFontSize=font_size, titleFontSize=font_size)\r\n",
                "        .configure_legend(labelFontSize=font_size, titleFontSize=font_size)\r\n",
                "    ).properties(width=400, height=300)"
            ],
            "outputs": [],
            "metadata": {}
        },
        {
            "cell_type": "markdown",
            "source": [
                "## Plotting figure 1 from part I raw data "
            ],
            "metadata": {}
        },
        {
            "cell_type": "code",
            "execution_count": 5,
            "source": [
                "fig1(raw.df)"
            ],
            "outputs": [
                {
                    "output_type": "execute_result",
                    "data": {
                        "text/plain": [
                            "alt.Chart(...)"
                        ],
                        "text/html": [
                            "\n",
                            "<div id=\"altair-viz-58191991b58b4dea98aa07807ddd4eb7\"></div>\n",
                            "<script type=\"text/javascript\">\n",
                            "  (function(spec, embedOpt){\n",
                            "    let outputDiv = document.currentScript.previousElementSibling;\n",
                            "    if (outputDiv.id !== \"altair-viz-58191991b58b4dea98aa07807ddd4eb7\") {\n",
                            "      outputDiv = document.getElementById(\"altair-viz-58191991b58b4dea98aa07807ddd4eb7\");\n",
                            "    }\n",
                            "    const paths = {\n",
                            "      \"vega\": \"https://cdn.jsdelivr.net/npm//vega@5?noext\",\n",
                            "      \"vega-lib\": \"https://cdn.jsdelivr.net/npm//vega-lib?noext\",\n",
                            "      \"vega-lite\": \"https://cdn.jsdelivr.net/npm//vega-lite@4.8.1?noext\",\n",
                            "      \"vega-embed\": \"https://cdn.jsdelivr.net/npm//vega-embed@6?noext\",\n",
                            "    };\n",
                            "\n",
                            "    function loadScript(lib) {\n",
                            "      return new Promise(function(resolve, reject) {\n",
                            "        var s = document.createElement('script');\n",
                            "        s.src = paths[lib];\n",
                            "        s.async = true;\n",
                            "        s.onload = () => resolve(paths[lib]);\n",
                            "        s.onerror = () => reject(`Error loading script: ${paths[lib]}`);\n",
                            "        document.getElementsByTagName(\"head\")[0].appendChild(s);\n",
                            "      });\n",
                            "    }\n",
                            "\n",
                            "    function showError(err) {\n",
                            "      outputDiv.innerHTML = `<div class=\"error\" style=\"color:red;\">${err}</div>`;\n",
                            "      throw err;\n",
                            "    }\n",
                            "\n",
                            "    function displayChart(vegaEmbed) {\n",
                            "      vegaEmbed(outputDiv, spec, embedOpt)\n",
                            "        .catch(err => showError(`Javascript Error: ${err.message}<br>This usually means there's a typo in your chart specification. See the javascript console for the full traceback.`));\n",
                            "    }\n",
                            "\n",
                            "    if(typeof define === \"function\" && define.amd) {\n",
                            "      requirejs.config({paths});\n",
                            "      require([\"vega-embed\"], displayChart, err => showError(`Error loading script: ${err.message}`));\n",
                            "    } else if (typeof vegaEmbed === \"function\") {\n",
                            "      displayChart(vegaEmbed);\n",
                            "    } else {\n",
                            "      loadScript(\"vega\")\n",
                            "        .then(() => loadScript(\"vega-lite\"))\n",
                            "        .then(() => loadScript(\"vega-embed\"))\n",
                            "        .catch(showError)\n",
                            "        .then(() => displayChart(vegaEmbed));\n",
                            "    }\n",
                            "  })({\"config\": {\"view\": {\"continuousWidth\": 400, \"continuousHeight\": 300}, \"axis\": {\"labelFontSize\": 18, \"titleFontSize\": 18}, \"header\": {\"labelFontSize\": 18, \"titleFontSize\": 18}, \"legend\": {\"labelFontSize\": 18, \"titleFontSize\": 18}}, \"data\": {\"name\": \"data-8fdf17eb62d96e35530b648461f8e9f0\"}, \"mark\": \"line\", \"encoding\": {\"color\": {\"type\": \"nominal\", \"field\": \"condition\", \"legend\": {\"orient\": \"bottom-right\"}, \"title\": \"Condition\"}, \"strokeDash\": {\"condition\": {\"value\": [5, 5], \"test\": \"(datum.condition === 'NW')\"}, \"value\": [0]}, \"x\": {\"type\": \"quantitative\", \"field\": \"epoch\", \"title\": \"Sample (Mil.)\"}, \"y\": {\"type\": \"quantitative\", \"field\": \"score\", \"scale\": {\"domain\": [0, 1]}, \"title\": \"Accuracy\"}}, \"height\": 300, \"width\": 400, \"$schema\": \"https://vega.github.io/schema/vega-lite/v4.8.1.json\", \"datasets\": {\"data-8fdf17eb62d96e35530b648461f8e9f0\": [{\"epoch\": 0.0, \"condition\": \"HF_CON\", \"code_name\": 64756293.0, \"hidden_units\": 150.0, \"cleanup_units\": 15.0, \"p_noise\": 2.0, \"learning_rate\": 0.006, \"score\": 0.0}, {\"epoch\": 0.0, \"condition\": \"HF_INC\", \"code_name\": 64756293.0, \"hidden_units\": 150.0, \"cleanup_units\": 15.0, \"p_noise\": 2.0, \"learning_rate\": 0.006, \"score\": 0.0}, {\"epoch\": 0.0, \"condition\": \"LF_CON\", \"code_name\": 64756293.0, \"hidden_units\": 150.0, \"cleanup_units\": 15.0, \"p_noise\": 2.0, \"learning_rate\": 0.006, \"score\": 0.0}, {\"epoch\": 0.0, \"condition\": \"LF_INC\", \"code_name\": 64756293.0, \"hidden_units\": 150.0, \"cleanup_units\": 15.0, \"p_noise\": 2.0, \"learning_rate\": 0.006, \"score\": 0.0}, {\"epoch\": 0.0, \"condition\": \"NW\", \"code_name\": 64756293.0, \"hidden_units\": 150.0, \"cleanup_units\": 15.0, \"p_noise\": 2.0, \"learning_rate\": 0.006, \"score\": 0.0}, {\"epoch\": 0.01, \"condition\": \"HF_CON\", \"code_name\": 64756293.0, \"hidden_units\": 150.0, \"cleanup_units\": 15.0, \"p_noise\": 2.0, \"learning_rate\": 0.006, \"score\": 0.03678}, {\"epoch\": 0.01, \"condition\": \"HF_INC\", \"code_name\": 64756293.0, \"hidden_units\": 150.0, \"cleanup_units\": 15.0, \"p_noise\": 2.0, \"learning_rate\": 0.006, \"score\": 0.04652}, {\"epoch\": 0.01, \"condition\": \"LF_CON\", \"code_name\": 64756293.0, \"hidden_units\": 150.0, \"cleanup_units\": 15.0, \"p_noise\": 2.0, \"learning_rate\": 0.006, \"score\": 0.0573}, {\"epoch\": 0.01, \"condition\": \"LF_INC\", \"code_name\": 64756293.0, \"hidden_units\": 150.0, \"cleanup_units\": 15.0, \"p_noise\": 2.0, \"learning_rate\": 0.006, \"score\": 0.044360000000000004}, {\"epoch\": 0.01, \"condition\": \"NW\", \"code_name\": 64756293.0, \"hidden_units\": 150.0, \"cleanup_units\": 15.0, \"p_noise\": 2.0, \"learning_rate\": 0.006, \"score\": 0.036500000000000005}, {\"epoch\": 0.02, \"condition\": \"HF_CON\", \"code_name\": 64756293.0, \"hidden_units\": 150.0, \"cleanup_units\": 15.0, \"p_noise\": 2.0, \"learning_rate\": 0.006, \"score\": 0.14504}, {\"epoch\": 0.02, \"condition\": \"HF_INC\", \"code_name\": 64756293.0, \"hidden_units\": 150.0, \"cleanup_units\": 15.0, \"p_noise\": 2.0, \"learning_rate\": 0.006, \"score\": 0.14544}, {\"epoch\": 0.02, \"condition\": \"LF_CON\", \"code_name\": 64756293.0, \"hidden_units\": 150.0, \"cleanup_units\": 15.0, \"p_noise\": 2.0, \"learning_rate\": 0.006, \"score\": 0.17034000000000002}, {\"epoch\": 0.02, \"condition\": \"LF_INC\", \"code_name\": 64756293.0, \"hidden_units\": 150.0, \"cleanup_units\": 15.0, \"p_noise\": 2.0, \"learning_rate\": 0.006, \"score\": 0.11098}, {\"epoch\": 0.02, \"condition\": \"NW\", \"code_name\": 64756293.0, \"hidden_units\": 150.0, \"cleanup_units\": 15.0, \"p_noise\": 2.0, \"learning_rate\": 0.006, \"score\": 0.13584666666666667}, {\"epoch\": 0.03, \"condition\": \"HF_CON\", \"code_name\": 64756293.0, \"hidden_units\": 150.0, \"cleanup_units\": 15.0, \"p_noise\": 2.0, \"learning_rate\": 0.006, \"score\": 0.26178}, {\"epoch\": 0.03, \"condition\": \"HF_INC\", \"code_name\": 64756293.0, \"hidden_units\": 150.0, \"cleanup_units\": 15.0, \"p_noise\": 2.0, \"learning_rate\": 0.006, \"score\": 0.23358}, {\"epoch\": 0.03, \"condition\": \"LF_CON\", \"code_name\": 64756293.0, \"hidden_units\": 150.0, \"cleanup_units\": 15.0, \"p_noise\": 2.0, \"learning_rate\": 0.006, \"score\": 0.27728}, {\"epoch\": 0.03, \"condition\": \"LF_INC\", \"code_name\": 64756293.0, \"hidden_units\": 150.0, \"cleanup_units\": 15.0, \"p_noise\": 2.0, \"learning_rate\": 0.006, \"score\": 0.17152}, {\"epoch\": 0.03, \"condition\": \"NW\", \"code_name\": 64756293.0, \"hidden_units\": 150.0, \"cleanup_units\": 15.0, \"p_noise\": 2.0, \"learning_rate\": 0.006, \"score\": 0.23502000000000003}, {\"epoch\": 0.04, \"condition\": \"HF_CON\", \"code_name\": 64756293.0, \"hidden_units\": 150.0, \"cleanup_units\": 15.0, \"p_noise\": 2.0, \"learning_rate\": 0.006, \"score\": 0.36408}, {\"epoch\": 0.04, \"condition\": \"HF_INC\", \"code_name\": 64756293.0, \"hidden_units\": 150.0, \"cleanup_units\": 15.0, \"p_noise\": 2.0, \"learning_rate\": 0.006, \"score\": 0.30624}, {\"epoch\": 0.04, \"condition\": \"LF_CON\", \"code_name\": 64756293.0, \"hidden_units\": 150.0, \"cleanup_units\": 15.0, \"p_noise\": 2.0, \"learning_rate\": 0.006, \"score\": 0.36906}, {\"epoch\": 0.04, \"condition\": \"LF_INC\", \"code_name\": 64756293.0, \"hidden_units\": 150.0, \"cleanup_units\": 15.0, \"p_noise\": 2.0, \"learning_rate\": 0.006, \"score\": 0.2221}, {\"epoch\": 0.04, \"condition\": \"NW\", \"code_name\": 64756293.0, \"hidden_units\": 150.0, \"cleanup_units\": 15.0, \"p_noise\": 2.0, \"learning_rate\": 0.006, \"score\": 0.32678}, {\"epoch\": 0.05, \"condition\": \"HF_CON\", \"code_name\": 64756293.0, \"hidden_units\": 150.0, \"cleanup_units\": 15.0, \"p_noise\": 2.0, \"learning_rate\": 0.006, \"score\": 0.4473}, {\"epoch\": 0.05, \"condition\": \"HF_INC\", \"code_name\": 64756293.0, \"hidden_units\": 150.0, \"cleanup_units\": 15.0, \"p_noise\": 2.0, \"learning_rate\": 0.006, \"score\": 0.36794}, {\"epoch\": 0.05, \"condition\": \"LF_CON\", \"code_name\": 64756293.0, \"hidden_units\": 150.0, \"cleanup_units\": 15.0, \"p_noise\": 2.0, \"learning_rate\": 0.006, \"score\": 0.44532}, {\"epoch\": 0.05, \"condition\": \"LF_INC\", \"code_name\": 64756293.0, \"hidden_units\": 150.0, \"cleanup_units\": 15.0, \"p_noise\": 2.0, \"learning_rate\": 0.006, \"score\": 0.2631}, {\"epoch\": 0.05, \"condition\": \"NW\", \"code_name\": 64756293.0, \"hidden_units\": 150.0, \"cleanup_units\": 15.0, \"p_noise\": 2.0, \"learning_rate\": 0.006, \"score\": 0.4005533333333333}, {\"epoch\": 0.06, \"condition\": \"HF_CON\", \"code_name\": 64756293.0, \"hidden_units\": 150.0, \"cleanup_units\": 15.0, \"p_noise\": 2.0, \"learning_rate\": 0.006, \"score\": 0.51702}, {\"epoch\": 0.06, \"condition\": \"HF_INC\", \"code_name\": 64756293.0, \"hidden_units\": 150.0, \"cleanup_units\": 15.0, \"p_noise\": 2.0, \"learning_rate\": 0.006, \"score\": 0.42454}, {\"epoch\": 0.06, \"condition\": \"LF_CON\", \"code_name\": 64756293.0, \"hidden_units\": 150.0, \"cleanup_units\": 15.0, \"p_noise\": 2.0, \"learning_rate\": 0.006, \"score\": 0.5088}, {\"epoch\": 0.06, \"condition\": \"LF_INC\", \"code_name\": 64756293.0, \"hidden_units\": 150.0, \"cleanup_units\": 15.0, \"p_noise\": 2.0, \"learning_rate\": 0.006, \"score\": 0.29934}, {\"epoch\": 0.06, \"condition\": \"NW\", \"code_name\": 64756293.0, \"hidden_units\": 150.0, \"cleanup_units\": 15.0, \"p_noise\": 2.0, \"learning_rate\": 0.006, \"score\": 0.45886000000000005}, {\"epoch\": 0.07, \"condition\": \"HF_CON\", \"code_name\": 64756293.0, \"hidden_units\": 150.0, \"cleanup_units\": 15.0, \"p_noise\": 2.0, \"learning_rate\": 0.006, \"score\": 0.57334}, {\"epoch\": 0.07, \"condition\": \"HF_INC\", \"code_name\": 64756293.0, \"hidden_units\": 150.0, \"cleanup_units\": 15.0, \"p_noise\": 2.0, \"learning_rate\": 0.006, \"score\": 0.47636000000000006}, {\"epoch\": 0.07, \"condition\": \"LF_CON\", \"code_name\": 64756293.0, \"hidden_units\": 150.0, \"cleanup_units\": 15.0, \"p_noise\": 2.0, \"learning_rate\": 0.006, \"score\": 0.56218}, {\"epoch\": 0.07, \"condition\": \"LF_INC\", \"code_name\": 64756293.0, \"hidden_units\": 150.0, \"cleanup_units\": 15.0, \"p_noise\": 2.0, \"learning_rate\": 0.006, \"score\": 0.32934}, {\"epoch\": 0.07, \"condition\": \"NW\", \"code_name\": 64756293.0, \"hidden_units\": 150.0, \"cleanup_units\": 15.0, \"p_noise\": 2.0, \"learning_rate\": 0.006, \"score\": 0.5067533333333333}, {\"epoch\": 0.08, \"condition\": \"HF_CON\", \"code_name\": 64756293.0, \"hidden_units\": 150.0, \"cleanup_units\": 15.0, \"p_noise\": 2.0, \"learning_rate\": 0.006, \"score\": 0.61754}, {\"epoch\": 0.08, \"condition\": \"HF_INC\", \"code_name\": 64756293.0, \"hidden_units\": 150.0, \"cleanup_units\": 15.0, \"p_noise\": 2.0, \"learning_rate\": 0.006, \"score\": 0.51858}, {\"epoch\": 0.08, \"condition\": \"LF_CON\", \"code_name\": 64756293.0, \"hidden_units\": 150.0, \"cleanup_units\": 15.0, \"p_noise\": 2.0, \"learning_rate\": 0.006, \"score\": 0.60606}, {\"epoch\": 0.08, \"condition\": \"LF_INC\", \"code_name\": 64756293.0, \"hidden_units\": 150.0, \"cleanup_units\": 15.0, \"p_noise\": 2.0, \"learning_rate\": 0.006, \"score\": 0.35566}, {\"epoch\": 0.08, \"condition\": \"NW\", \"code_name\": 64756293.0, \"hidden_units\": 150.0, \"cleanup_units\": 15.0, \"p_noise\": 2.0, \"learning_rate\": 0.006, \"score\": 0.5437666666666667}, {\"epoch\": 0.09, \"condition\": \"HF_CON\", \"code_name\": 64756293.0, \"hidden_units\": 150.0, \"cleanup_units\": 15.0, \"p_noise\": 2.0, \"learning_rate\": 0.006, \"score\": 0.65792}, {\"epoch\": 0.09, \"condition\": \"HF_INC\", \"code_name\": 64756293.0, \"hidden_units\": 150.0, \"cleanup_units\": 15.0, \"p_noise\": 2.0, \"learning_rate\": 0.006, \"score\": 0.55774}, {\"epoch\": 0.09, \"condition\": \"LF_CON\", \"code_name\": 64756293.0, \"hidden_units\": 150.0, \"cleanup_units\": 15.0, \"p_noise\": 2.0, \"learning_rate\": 0.006, \"score\": 0.6452399999999999}, {\"epoch\": 0.09, \"condition\": \"LF_INC\", \"code_name\": 64756293.0, \"hidden_units\": 150.0, \"cleanup_units\": 15.0, \"p_noise\": 2.0, \"learning_rate\": 0.006, \"score\": 0.379}, {\"epoch\": 0.09, \"condition\": \"NW\", \"code_name\": 64756293.0, \"hidden_units\": 150.0, \"cleanup_units\": 15.0, \"p_noise\": 2.0, \"learning_rate\": 0.006, \"score\": 0.57638}, {\"epoch\": 0.1, \"condition\": \"HF_CON\", \"code_name\": 64756293.0, \"hidden_units\": 150.0, \"cleanup_units\": 15.0, \"p_noise\": 2.0, \"learning_rate\": 0.006, \"score\": 0.68798}, {\"epoch\": 0.1, \"condition\": \"HF_INC\", \"code_name\": 64756293.0, \"hidden_units\": 150.0, \"cleanup_units\": 15.0, \"p_noise\": 2.0, \"learning_rate\": 0.006, \"score\": 0.5915199999999999}, {\"epoch\": 0.1, \"condition\": \"LF_CON\", \"code_name\": 64756293.0, \"hidden_units\": 150.0, \"cleanup_units\": 15.0, \"p_noise\": 2.0, \"learning_rate\": 0.006, \"score\": 0.6767}, {\"epoch\": 0.1, \"condition\": \"LF_INC\", \"code_name\": 64756293.0, \"hidden_units\": 150.0, \"cleanup_units\": 15.0, \"p_noise\": 2.0, \"learning_rate\": 0.006, \"score\": 0.4033}, {\"epoch\": 0.1, \"condition\": \"NW\", \"code_name\": 64756293.0, \"hidden_units\": 150.0, \"cleanup_units\": 15.0, \"p_noise\": 2.0, \"learning_rate\": 0.006, \"score\": 0.6035266666666667}, {\"epoch\": 0.2, \"condition\": \"HF_CON\", \"code_name\": 64756293.0, \"hidden_units\": 150.0, \"cleanup_units\": 15.0, \"p_noise\": 2.0, \"learning_rate\": 0.006, \"score\": 0.85534}, {\"epoch\": 0.2, \"condition\": \"HF_INC\", \"code_name\": 64756293.0, \"hidden_units\": 150.0, \"cleanup_units\": 15.0, \"p_noise\": 2.0, \"learning_rate\": 0.006, \"score\": 0.7817}, {\"epoch\": 0.2, \"condition\": \"LF_CON\", \"code_name\": 64756293.0, \"hidden_units\": 150.0, \"cleanup_units\": 15.0, \"p_noise\": 2.0, \"learning_rate\": 0.006, \"score\": 0.8442}, {\"epoch\": 0.2, \"condition\": \"LF_INC\", \"code_name\": 64756293.0, \"hidden_units\": 150.0, \"cleanup_units\": 15.0, \"p_noise\": 2.0, \"learning_rate\": 0.006, \"score\": 0.56198}, {\"epoch\": 0.2, \"condition\": \"NW\", \"code_name\": 64756293.0, \"hidden_units\": 150.0, \"cleanup_units\": 15.0, \"p_noise\": 2.0, \"learning_rate\": 0.006, \"score\": 0.7430066666666667}, {\"epoch\": 0.3, \"condition\": \"HF_CON\", \"code_name\": 64756293.0, \"hidden_units\": 150.0, \"cleanup_units\": 15.0, \"p_noise\": 2.0, \"learning_rate\": 0.006, \"score\": 0.9122399999999999}, {\"epoch\": 0.3, \"condition\": \"HF_INC\", \"code_name\": 64756293.0, \"hidden_units\": 150.0, \"cleanup_units\": 15.0, \"p_noise\": 2.0, \"learning_rate\": 0.006, \"score\": 0.85916}, {\"epoch\": 0.3, \"condition\": \"LF_CON\", \"code_name\": 64756293.0, \"hidden_units\": 150.0, \"cleanup_units\": 15.0, \"p_noise\": 2.0, \"learning_rate\": 0.006, \"score\": 0.9086799999999999}, {\"epoch\": 0.3, \"condition\": \"LF_INC\", \"code_name\": 64756293.0, \"hidden_units\": 150.0, \"cleanup_units\": 15.0, \"p_noise\": 2.0, \"learning_rate\": 0.006, \"score\": 0.6602600000000001}, {\"epoch\": 0.3, \"condition\": \"NW\", \"code_name\": 64756293.0, \"hidden_units\": 150.0, \"cleanup_units\": 15.0, \"p_noise\": 2.0, \"learning_rate\": 0.006, \"score\": 0.7893266666666666}, {\"epoch\": 0.4, \"condition\": \"HF_CON\", \"code_name\": 64756293.0, \"hidden_units\": 150.0, \"cleanup_units\": 15.0, \"p_noise\": 2.0, \"learning_rate\": 0.006, \"score\": 0.93848}, {\"epoch\": 0.4, \"condition\": \"HF_INC\", \"code_name\": 64756293.0, \"hidden_units\": 150.0, \"cleanup_units\": 15.0, \"p_noise\": 2.0, \"learning_rate\": 0.006, \"score\": 0.90496}, {\"epoch\": 0.4, \"condition\": \"LF_CON\", \"code_name\": 64756293.0, \"hidden_units\": 150.0, \"cleanup_units\": 15.0, \"p_noise\": 2.0, \"learning_rate\": 0.006, \"score\": 0.93848}, {\"epoch\": 0.4, \"condition\": \"LF_INC\", \"code_name\": 64756293.0, \"hidden_units\": 150.0, \"cleanup_units\": 15.0, \"p_noise\": 2.0, \"learning_rate\": 0.006, \"score\": 0.73092}, {\"epoch\": 0.4, \"condition\": \"NW\", \"code_name\": 64756293.0, \"hidden_units\": 150.0, \"cleanup_units\": 15.0, \"p_noise\": 2.0, \"learning_rate\": 0.006, \"score\": 0.81206}, {\"epoch\": 0.5, \"condition\": \"HF_CON\", \"code_name\": 64756293.0, \"hidden_units\": 150.0, \"cleanup_units\": 15.0, \"p_noise\": 2.0, \"learning_rate\": 0.006, \"score\": 0.95344}, {\"epoch\": 0.5, \"condition\": \"HF_INC\", \"code_name\": 64756293.0, \"hidden_units\": 150.0, \"cleanup_units\": 15.0, \"p_noise\": 2.0, \"learning_rate\": 0.006, \"score\": 0.9281}, {\"epoch\": 0.5, \"condition\": \"LF_CON\", \"code_name\": 64756293.0, \"hidden_units\": 150.0, \"cleanup_units\": 15.0, \"p_noise\": 2.0, \"learning_rate\": 0.006, \"score\": 0.95478}, {\"epoch\": 0.5, \"condition\": \"LF_INC\", \"code_name\": 64756293.0, \"hidden_units\": 150.0, \"cleanup_units\": 15.0, \"p_noise\": 2.0, \"learning_rate\": 0.006, \"score\": 0.77462}, {\"epoch\": 0.5, \"condition\": \"NW\", \"code_name\": 64756293.0, \"hidden_units\": 150.0, \"cleanup_units\": 15.0, \"p_noise\": 2.0, \"learning_rate\": 0.006, \"score\": 0.82386}, {\"epoch\": 0.6, \"condition\": \"HF_CON\", \"code_name\": 64756293.0, \"hidden_units\": 150.0, \"cleanup_units\": 15.0, \"p_noise\": 2.0, \"learning_rate\": 0.006, \"score\": 0.9628200000000001}, {\"epoch\": 0.6, \"condition\": \"HF_INC\", \"code_name\": 64756293.0, \"hidden_units\": 150.0, \"cleanup_units\": 15.0, \"p_noise\": 2.0, \"learning_rate\": 0.006, \"score\": 0.9413799999999999}, {\"epoch\": 0.6, \"condition\": \"LF_CON\", \"code_name\": 64756293.0, \"hidden_units\": 150.0, \"cleanup_units\": 15.0, \"p_noise\": 2.0, \"learning_rate\": 0.006, \"score\": 0.96488}, {\"epoch\": 0.6, \"condition\": \"LF_INC\", \"code_name\": 64756293.0, \"hidden_units\": 150.0, \"cleanup_units\": 15.0, \"p_noise\": 2.0, \"learning_rate\": 0.006, \"score\": 0.80996}, {\"epoch\": 0.6, \"condition\": \"NW\", \"code_name\": 64756293.0, \"hidden_units\": 150.0, \"cleanup_units\": 15.0, \"p_noise\": 2.0, \"learning_rate\": 0.006, \"score\": 0.8300133333333333}, {\"epoch\": 0.7, \"condition\": \"HF_CON\", \"code_name\": 64756293.0, \"hidden_units\": 150.0, \"cleanup_units\": 15.0, \"p_noise\": 2.0, \"learning_rate\": 0.006, \"score\": 0.9694200000000001}, {\"epoch\": 0.7, \"condition\": \"HF_INC\", \"code_name\": 64756293.0, \"hidden_units\": 150.0, \"cleanup_units\": 15.0, \"p_noise\": 2.0, \"learning_rate\": 0.006, \"score\": 0.95188}, {\"epoch\": 0.7, \"condition\": \"LF_CON\", \"code_name\": 64756293.0, \"hidden_units\": 150.0, \"cleanup_units\": 15.0, \"p_noise\": 2.0, \"learning_rate\": 0.006, \"score\": 0.9713200000000001}, {\"epoch\": 0.7, \"condition\": \"LF_INC\", \"code_name\": 64756293.0, \"hidden_units\": 150.0, \"cleanup_units\": 15.0, \"p_noise\": 2.0, \"learning_rate\": 0.006, \"score\": 0.8337399999999999}, {\"epoch\": 0.7, \"condition\": \"NW\", \"code_name\": 64756293.0, \"hidden_units\": 150.0, \"cleanup_units\": 15.0, \"p_noise\": 2.0, \"learning_rate\": 0.006, \"score\": 0.8349799999999999}, {\"epoch\": 0.8, \"condition\": \"HF_CON\", \"code_name\": 64756293.0, \"hidden_units\": 150.0, \"cleanup_units\": 15.0, \"p_noise\": 2.0, \"learning_rate\": 0.006, \"score\": 0.9733200000000001}, {\"epoch\": 0.8, \"condition\": \"HF_INC\", \"code_name\": 64756293.0, \"hidden_units\": 150.0, \"cleanup_units\": 15.0, \"p_noise\": 2.0, \"learning_rate\": 0.006, \"score\": 0.9596600000000001}, {\"epoch\": 0.8, \"condition\": \"LF_CON\", \"code_name\": 64756293.0, \"hidden_units\": 150.0, \"cleanup_units\": 15.0, \"p_noise\": 2.0, \"learning_rate\": 0.006, \"score\": 0.9764200000000001}, {\"epoch\": 0.8, \"condition\": \"LF_INC\", \"code_name\": 64756293.0, \"hidden_units\": 150.0, \"cleanup_units\": 15.0, \"p_noise\": 2.0, \"learning_rate\": 0.006, \"score\": 0.85716}, {\"epoch\": 0.8, \"condition\": \"NW\", \"code_name\": 64756293.0, \"hidden_units\": 150.0, \"cleanup_units\": 15.0, \"p_noise\": 2.0, \"learning_rate\": 0.006, \"score\": 0.8398066666666667}, {\"epoch\": 0.9, \"condition\": \"HF_CON\", \"code_name\": 64756293.0, \"hidden_units\": 150.0, \"cleanup_units\": 15.0, \"p_noise\": 2.0, \"learning_rate\": 0.006, \"score\": 0.97662}, {\"epoch\": 0.9, \"condition\": \"HF_INC\", \"code_name\": 64756293.0, \"hidden_units\": 150.0, \"cleanup_units\": 15.0, \"p_noise\": 2.0, \"learning_rate\": 0.006, \"score\": 0.96344}, {\"epoch\": 0.9, \"condition\": \"LF_CON\", \"code_name\": 64756293.0, \"hidden_units\": 150.0, \"cleanup_units\": 15.0, \"p_noise\": 2.0, \"learning_rate\": 0.006, \"score\": 0.97898}, {\"epoch\": 0.9, \"condition\": \"LF_INC\", \"code_name\": 64756293.0, \"hidden_units\": 150.0, \"cleanup_units\": 15.0, \"p_noise\": 2.0, \"learning_rate\": 0.006, \"score\": 0.8710600000000001}, {\"epoch\": 0.9, \"condition\": \"NW\", \"code_name\": 64756293.0, \"hidden_units\": 150.0, \"cleanup_units\": 15.0, \"p_noise\": 2.0, \"learning_rate\": 0.006, \"score\": 0.8413333333333334}, {\"epoch\": 1.0, \"condition\": \"HF_CON\", \"code_name\": 64756293.0, \"hidden_units\": 150.0, \"cleanup_units\": 15.0, \"p_noise\": 2.0, \"learning_rate\": 0.006, \"score\": 0.9787600000000001}, {\"epoch\": 1.0, \"condition\": \"HF_INC\", \"code_name\": 64756293.0, \"hidden_units\": 150.0, \"cleanup_units\": 15.0, \"p_noise\": 2.0, \"learning_rate\": 0.006, \"score\": 0.9673799999999999}, {\"epoch\": 1.0, \"condition\": \"LF_CON\", \"code_name\": 64756293.0, \"hidden_units\": 150.0, \"cleanup_units\": 15.0, \"p_noise\": 2.0, \"learning_rate\": 0.006, \"score\": 0.9817799999999999}, {\"epoch\": 1.0, \"condition\": \"LF_INC\", \"code_name\": 64756293.0, \"hidden_units\": 150.0, \"cleanup_units\": 15.0, \"p_noise\": 2.0, \"learning_rate\": 0.006, \"score\": 0.8844}, {\"epoch\": 1.0, \"condition\": \"NW\", \"code_name\": 64756293.0, \"hidden_units\": 150.0, \"cleanup_units\": 15.0, \"p_noise\": 2.0, \"learning_rate\": 0.006, \"score\": 0.8425466666666667}]}}, {\"mode\": \"vega-lite\"});\n",
                            "</script>"
                        ]
                    },
                    "metadata": {},
                    "execution_count": 5
                }
            ],
            "metadata": {}
        },
        {
            "cell_type": "markdown",
            "source": [
                "Figure 1. Accuracy over training epoch (in fractions of a million samples) including high-frequency consistent words (HF_CON), high-frequency inconsistent words (HF_INC), low-frequency consistent words (LF_CON), low-frequency inconsistent words (LF_INC), as well as overall nonwords (NW). "
            ],
            "metadata": {}
        }
    ],
    "metadata": {
        "orig_nbformat": 4,
        "language_info": {
            "name": "python",
            "version": "3.7.10",
            "mimetype": "text/x-python",
            "codemirror_mode": {
                "name": "ipython",
                "version": 3
            },
            "pygments_lexer": "ipython3",
            "nbconvert_exporter": "python",
            "file_extension": ".py"
        },
        "kernelspec": {
            "name": "python3",
            "display_name": "Python 3.7.10 64-bit ('base': conda)"
        },
        "interpreter": {
            "hash": "280b7e50828e23ca5d9e559e41b302061c59f2723c8a67cae862a91c4175be70"
        }
    },
    "nbformat": 4,
    "nbformat_minor": 2
}