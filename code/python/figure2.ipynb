{
    "cells": [
        {
            "cell_type": "markdown",
            "source": [
                "# Figure 2. Asymptote and growth parameter in each control parameter settings"
            ],
            "metadata": {}
        },
        {
            "cell_type": "code",
            "execution_count": null,
            "source": [
                "import pandas as pd\r\n",
                "import numpy as np\r\n",
                "import altair as alt\r\n",
                "from helper import control_space_heatmap"
            ],
            "outputs": [],
            "metadata": {}
        },
        {
            "cell_type": "markdown",
            "source": [
                "## Import growth parameters from csv"
            ],
            "metadata": {}
        },
        {
            "cell_type": "code",
            "execution_count": null,
            "source": [
                "df = pd.read_csv('../../data/growth_params_1250.csv')\r\n",
                "df[\"learning_rate\"] = df.learning_rate.round(3)\r\n",
                "# Calculate log growth for better distribution\r\n",
                "df[\"growth\"] = np.log(df.k + 1)\r\n",
                "df.head()"
            ],
            "outputs": [],
            "metadata": {}
        },
        {
            "cell_type": "markdown",
            "source": [
                "## Create separate dataframes for words and nonwords"
            ],
            "metadata": {}
        },
        {
            "cell_type": "code",
            "execution_count": null,
            "source": [
                "df_growth_word = (\r\n",
                "    df.loc[df.cond.isin([\"HF_CON\", \"LF_CON\", \"HF_INC\", \"LF_INC\"]),]\r\n",
                "    .groupby([\"hidden_units\",  \"p_noise\", \"learning_rate\"])\r\n",
                "    .mean()\r\n",
                "    .reset_index()\r\n",
                ")\r\n",
                "\r\n",
                "df_growth_nonword = (\r\n",
                "    df.loc[df.cond.isin([\"NW_UN\", \"NW_AMB\"]),]\r\n",
                "    .groupby([\"hidden_units\", \"p_noise\", \"learning_rate\"])\r\n",
                "    .mean()\r\n",
                "    .reset_index()\r\n",
                ")"
            ],
            "outputs": [],
            "metadata": {}
        },
        {
            "cell_type": "markdown",
            "source": [
                "## Word asymptote"
            ],
            "metadata": {}
        },
        {
            "cell_type": "code",
            "execution_count": null,
            "source": [
                "r1 = control_space_heatmap(\r\n",
                "    df_growth_word,\r\n",
                "    title=\"a. Word Asymptote\",\r\n",
                "    var=\"max_acc\",\r\n",
                "    color_scheme=\"redyellowgreen\",\r\n",
                "    domain=(0.6, 1),\r\n",
                "    font_size=24,\r\n",
                "    epsilon_label=\"Epsilon (panel column)\"\r\n",
                ")\r\n",
                "\r\n",
                "r1"
            ],
            "outputs": [],
            "metadata": {}
        },
        {
            "cell_type": "markdown",
            "source": [
                "## Nonword asymptote"
            ],
            "metadata": {}
        },
        {
            "cell_type": "code",
            "execution_count": null,
            "source": [
                "r2 = control_space_heatmap(\r\n",
                "    df_growth_nonword,\r\n",
                "    title=\"b. Nonword Asymptote\",\r\n",
                "    var=\"max_acc\",\r\n",
                "    color_scheme=\"redyellowgreen\",\r\n",
                "    domain=(0.6, 1),\r\n",
                "    font_size=24,\r\n",
                "    epsilon_label=\"\",\r\n",
                ")\r\n",
                "\r\n",
                "r2\r\n"
            ],
            "outputs": [],
            "metadata": {}
        },
        {
            "cell_type": "markdown",
            "source": [
                "## Word growth"
            ],
            "metadata": {}
        },
        {
            "cell_type": "code",
            "execution_count": null,
            "source": [
                "r3 = control_space_heatmap(\r\n",
                "    df_growth_word,\r\n",
                "    title=\"c. Word Growth\",\r\n",
                "    var=\"growth\",\r\n",
                "    color_scheme=\"redyellowblue\",\r\n",
                "    domain=(1, 4),\r\n",
                "    font_size=24,\r\n",
                "    epsilon_label=\"\",\r\n",
                "    hide_legend=False\r\n",
                ")\r\n",
                "\r\n",
                "r3"
            ],
            "outputs": [],
            "metadata": {}
        },
        {
            "cell_type": "markdown",
            "source": [
                "## Nonword growth"
            ],
            "metadata": {}
        },
        {
            "cell_type": "code",
            "execution_count": null,
            "source": [
                "r4 = control_space_heatmap(\r\n",
                "    df_growth_nonword,\r\n",
                "    title=\"d. Nonword Growth\",\r\n",
                "    var=\"growth\",\r\n",
                "    color_scheme=\"redyellowblue\",\r\n",
                "    domain=(1, 4),\r\n",
                "    font_size=24,\r\n",
                "    epsilon_label=\"\",\r\n",
                ")\r\n",
                "\r\n",
                "r4"
            ],
            "outputs": [],
            "metadata": {}
        },
        {
            "cell_type": "markdown",
            "source": [
                "Figure 2. Asymptote and growth parameter in each control parameter settings. In each smaller 5x5 heatmap, the x-axis is the amount of p-noise, the y-axis is the number of hidden units. Each panel depicts a different value of epsilon."
            ],
            "metadata": {}
        }
    ],
    "metadata": {
        "orig_nbformat": 4,
        "language_info": {
            "name": "python",
            "version": "3.7.10",
            "mimetype": "text/x-python",
            "codemirror_mode": {
                "name": "ipython",
                "version": 3
            },
            "pygments_lexer": "ipython3",
            "nbconvert_exporter": "python",
            "file_extension": ".py"
        },
        "kernelspec": {
            "name": "python3",
            "display_name": "Python 3.7.10 64-bit ('base': conda)"
        },
        "interpreter": {
            "hash": "280b7e50828e23ca5d9e559e41b302061c59f2723c8a67cae862a91c4175be70"
        }
    },
    "nbformat": 4,
    "nbformat_minor": 2
}