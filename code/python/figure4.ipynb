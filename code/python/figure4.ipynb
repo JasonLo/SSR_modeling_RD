{
    "cells": [
        {
            "cell_type": "markdown",
            "source": [
                "# Figure 4. Individual case study"
            ],
            "metadata": {}
        },
        {
            "cell_type": "markdown",
            "source": [
                "## Import libraries"
            ],
            "metadata": {}
        },
        {
            "cell_type": "code",
            "execution_count": null,
            "source": [
                "import pandas as pd\r\n",
                "import altair as alt\r\n",
                "from helper import RawData, InteractivePlot"
            ],
            "outputs": [],
            "metadata": {}
        },
        {
            "cell_type": "markdown",
            "source": [
                "## Import part II data (Expanded control parameter range)"
            ],
            "metadata": {}
        },
        {
            "cell_type": "code",
            "execution_count": null,
            "source": [
                "raw = RawData(\"../../data/data_part2_1750.csv\")\r\n",
                "df = raw.get(epoch_less_than=0.3)"
            ],
            "outputs": [],
            "metadata": {}
        },
        {
            "cell_type": "markdown",
            "source": [
                "## Plot figure 4"
            ],
            "metadata": {}
        },
        {
            "cell_type": "code",
            "execution_count": null,
            "source": [
                "fig4 = InteractivePlot(df=df)  # see helper.py for details\r\n",
                "fig4.plot()"
            ],
            "outputs": [],
            "metadata": {}
        },
        {
            "cell_type": "markdown",
            "source": [
                "Figure 4 is just four selected setting in the interactive plot:\r\n",
                "1. Baseline: P-Noise=0; Hidden=100; Epsilon=.006\r\n",
                "2. Phonological dyslexia: **P-Noise=8**; Hidden=100; Epsilon=.006\r\n",
                "3. Surface dyslexia: P-Noise=0; **Hidden=25**; Epsilon=.006\r\n",
                "4. Developmental delay: P-Noise=0; Hidden=100; **Epsilon=.002**"
            ],
            "metadata": {}
        }
    ],
    "metadata": {
        "orig_nbformat": 4,
        "language_info": {
            "name": "python",
            "version": "3.7.10",
            "mimetype": "text/x-python",
            "codemirror_mode": {
                "name": "ipython",
                "version": 3
            },
            "pygments_lexer": "ipython3",
            "nbconvert_exporter": "python",
            "file_extension": ".py"
        },
        "kernelspec": {
            "name": "python3",
            "display_name": "Python 3.7.10 64-bit ('base': conda)"
        },
        "interpreter": {
            "hash": "280b7e50828e23ca5d9e559e41b302061c59f2723c8a67cae862a91c4175be70"
        }
    },
    "nbformat": 4,
    "nbformat_minor": 2
}