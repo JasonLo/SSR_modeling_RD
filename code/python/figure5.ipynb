{
    "cells": [
        {
            "cell_type": "markdown",
            "source": [
                "# Figure 5. Nonword versus word accuracy (performance space) at different levels of control parameter settings"
            ],
            "metadata": {}
        },
        {
            "cell_type": "markdown",
            "source": [
                "## Import libraries"
            ],
            "metadata": {}
        },
        {
            "cell_type": "code",
            "execution_count": null,
            "source": [
                "import pandas as pd\r\n",
                "import altair as alt\r\n",
                "from helper import RawData, long_to_wide, parse_df, alt_diagonal, apply_font_size"
            ],
            "outputs": [],
            "metadata": {}
        },
        {
            "cell_type": "markdown",
            "source": [
                "## Import part II data (Expanded control parameter range)"
            ],
            "metadata": {}
        },
        {
            "cell_type": "code",
            "execution_count": null,
            "source": [
                "raw = RawData(\"../../data/data_part2_1750.csv\")\r\n",
                "df = raw.get(epoch_less_than=0.3)\r\n",
                "df = parse_df(df)\r\n",
                "df = long_to_wide(df)"
            ],
            "outputs": [],
            "metadata": {}
        },
        {
            "cell_type": "markdown",
            "source": [
                "## Function for plotting figure 5"
            ],
            "metadata": {}
        },
        {
            "cell_type": "code",
            "execution_count": null,
            "source": [
                "def plot_performance_space(df:pd.DataFrame) -> alt.Chart:\r\n",
                "    \"\"\"Plotting a performance space\"\"\"\r\n",
                "    # Points\r\n",
                "    base = (\r\n",
                "        alt.Chart(df)\r\n",
                "        .mark_circle(color=\"black\", size=10)\r\n",
                "        .encode(\r\n",
                "            x=alt.X(f\"score_word:Q\", scale=alt.Scale(domain=(0, 1)), title=\"Word\"),\r\n",
                "            y=alt.Y(f\"score_nonword:Q\", scale=alt.Scale(domain=(0, 1)), title=\"Nonword\"),\r\n",
                "            tooltip=[\"epoch\"],\r\n",
                "        )\r\n",
                "    )\r\n",
                "\r\n",
                "    # LOESS Curve\r\n",
                "    loess = base.transform_loess(\r\n",
                "        \"score_word\", \"score_nonword\", bandwidth=0.4\r\n",
                "    ).mark_line(color=\"black\")\r\n",
                "\r\n",
                "    # Color points to indicate epoch\r\n",
                "    color_points = (\r\n",
                "        base.mark_circle(size=200)\r\n",
                "        .encode(x=\"mean_x:Q\", y=\"mean_y:Q\", color=alt.Color(\"color:N\", scale=None))\r\n",
                "        .transform_aggregate(\r\n",
                "            mean_x=\"mean(score_word)\",\r\n",
                "            mean_y=\"mean(score_nonword)\",\r\n",
                "            groupby=[\"epoch\"],\r\n",
                "        )\r\n",
                "        .transform_calculate(\r\n",
                "            color=\"if(datum.epoch===0.05, 'red', if(datum.epoch === 0.3, 'green', ''))\"\r\n",
                "        )\r\n",
                "    )\r\n",
                "\r\n",
                "    return base + color_points + loess + alt_diagonal()"
            ],
            "outputs": [],
            "metadata": {}
        },
        {
            "cell_type": "markdown",
            "source": [
                "## Plotting figure 5 in selected control parameters settings"
            ],
            "metadata": {}
        },
        {
            "cell_type": "code",
            "execution_count": null,
            "source": [
                "plot_main = alt.hconcat()\r\n",
                "for e in (.01, .002):\r\n",
                "    for p in (0, 8):    \r\n",
                "        plot_column = alt.vconcat()\r\n",
                "        for h in (250, 50):\r\n",
                "            # Subset by control parameters setting\r\n",
                "            this_df = df.loc[(df.learning_rate == e) & (df.p_noise==p) & (df.hidden_units==h)]\r\n",
                "            # Plot a single figure\r\n",
                "            this_plot = plot_performance_space(this_df).properties(title=f\"Pnoise={p}, HU={h}, Epsilon={e}\")\r\n",
                "            # Combine with previous plots\r\n",
                "            plot_column &= this_plot\r\n",
                "\r\n",
                "        plot_main |= plot_column\r\n",
                "\r\n",
                "apply_font_size(plot_main, 18)"
            ],
            "outputs": [],
            "metadata": {}
        }
    ],
    "metadata": {
        "orig_nbformat": 4,
        "language_info": {
            "name": "python",
            "version": "3.7.10",
            "mimetype": "text/x-python",
            "codemirror_mode": {
                "name": "ipython",
                "version": 3
            },
            "pygments_lexer": "ipython3",
            "nbconvert_exporter": "python",
            "file_extension": ".py"
        },
        "kernelspec": {
            "name": "python3",
            "display_name": "Python 3.7.10 64-bit ('base': conda)"
        },
        "interpreter": {
            "hash": "280b7e50828e23ca5d9e559e41b302061c59f2723c8a67cae862a91c4175be70"
        }
    },
    "nbformat": 4,
    "nbformat_minor": 2
}