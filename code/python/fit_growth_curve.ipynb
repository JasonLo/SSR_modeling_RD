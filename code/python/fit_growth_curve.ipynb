{
    "cells": [
        {
            "cell_type": "markdown",
            "source": [
                "# Fitting von Bertalanffy growth function on modeling data\r\n",
                "We have tried to fit different growth curves on our modeling data. We end up settling on using von Bertalanffy (1938) growth function because it offer the best fit amount other alternatives, such as linear, quadratic, cubic, exponential, and Janoschek (1957) equation. For simplicity we only present von Bertalanffy (1938) results here. \r\n",
                "\r\n",
                "This script takes part I dataset \"data_part1_1250.csv\" to produce the growth parameters dataset \"growth_params_1250.csv\"\r\n",
                "\r\n",
                "Due to the long run time, by default this notebook will not run when you press **Reproducible Run** on CodeOcean. \r\n",
                "\r\n",
                "This document only shows a general workflow with ample annotations. If you want to knows about all the technical details, please refers to the helper.py"
            ],
            "metadata": {}
        },
        {
            "cell_type": "markdown",
            "source": [
                "## Import libraries"
            ],
            "metadata": {}
        },
        {
            "cell_type": "code",
            "execution_count": 1,
            "source": [
                "import numpy as np\r\n",
                "import pandas as pd\r\n",
                "from tqdm import tqdm\r\n",
                "from helper import RawData, GrowthModel"
            ],
            "outputs": [],
            "metadata": {}
        },
        {
            "cell_type": "markdown",
            "source": [
                "## Import Part I raw data \r\n",
                "Part I data is in a control parameter range that produces somewhat decent reading outcome. "
            ],
            "metadata": {}
        },
        {
            "cell_type": "code",
            "execution_count": 2,
            "source": [
                "raw = RawData(\"../../data/data_part1_1250.csv\")"
            ],
            "outputs": [],
            "metadata": {}
        },
        {
            "cell_type": "markdown",
            "source": [
                "## Create von Bertalanffy (1938) function"
            ],
            "metadata": {}
        },
        {
            "cell_type": "code",
            "execution_count": 3,
            "source": [
                "def von_bertalanffy(x:float, max_acc:float, k:float, x0:float) -> float:\r\n",
                "    \"\"\" von Bertalanffy (1938) growth function\r\n",
                "    This function is originally used to describe the growth of an organism\r\n",
                "    It assume the rate of growth of an organism (in our case accuracy) \r\n",
                "    declines with size (or in our case epoch) \r\n",
                "    so that the rate of change in length, l,  can be described by:\r\n",
                "    dl/dt = K (L_inf - l) or under our context: dy/dx = k (max_acc - y)\r\n",
                "    max_acc: Maximum accuracy / upper asymtote\r\n",
                "    k: growth rate\r\n",
                "    x0: x value where model start to learn\r\n",
                "    \"\"\"\r\n",
                "    return max_acc * (1 - np.exp(-k * (x - x0)))"
            ],
            "outputs": [],
            "metadata": {}
        },
        {
            "cell_type": "markdown",
            "source": [
                "## Fit one model for demo\r\n",
                "To demonstate what the growth model results looks like in a growth model, we will plot one model. \r\n",
                "1. Get the data required from raw data, \r\n",
                "2. Fit the von_bertalanffy function to the data, *bounds* indicate the accepted range in each parameters\r\n",
                "3. Visualize result by comparing actual data against predicted value"
            ],
            "metadata": {}
        },
        {
            "cell_type": "code",
            "execution_count": 4,
            "source": [
                "# Get one set of data for demo\r\n",
                "df = raw.get(code_name=65317510, cond='HF_CON', remove_zero=True)\r\n",
                "demo = GrowthModel(growth_function=von_bertalanffy, xdata=df.epoch, ydata=df.score, name=\"von Bertalanffy\")\r\n",
                "demo.fit(bounds=(0, [1, np.inf, 1]))\r\n",
                "demo.plot()"
            ],
            "outputs": [
                {
                    "output_type": "execute_result",
                    "data": {
                        "text/plain": [
                            "alt.Chart(...)"
                        ],
                        "text/html": [
                            "\n",
                            "<div id=\"altair-viz-7c9ae32aab4843828ea43f64e839087b\"></div>\n",
                            "<script type=\"text/javascript\">\n",
                            "  (function(spec, embedOpt){\n",
                            "    let outputDiv = document.currentScript.previousElementSibling;\n",
                            "    if (outputDiv.id !== \"altair-viz-7c9ae32aab4843828ea43f64e839087b\") {\n",
                            "      outputDiv = document.getElementById(\"altair-viz-7c9ae32aab4843828ea43f64e839087b\");\n",
                            "    }\n",
                            "    const paths = {\n",
                            "      \"vega\": \"https://cdn.jsdelivr.net/npm//vega@5?noext\",\n",
                            "      \"vega-lib\": \"https://cdn.jsdelivr.net/npm//vega-lib?noext\",\n",
                            "      \"vega-lite\": \"https://cdn.jsdelivr.net/npm//vega-lite@4.8.1?noext\",\n",
                            "      \"vega-embed\": \"https://cdn.jsdelivr.net/npm//vega-embed@6?noext\",\n",
                            "    };\n",
                            "\n",
                            "    function loadScript(lib) {\n",
                            "      return new Promise(function(resolve, reject) {\n",
                            "        var s = document.createElement('script');\n",
                            "        s.src = paths[lib];\n",
                            "        s.async = true;\n",
                            "        s.onload = () => resolve(paths[lib]);\n",
                            "        s.onerror = () => reject(`Error loading script: ${paths[lib]}`);\n",
                            "        document.getElementsByTagName(\"head\")[0].appendChild(s);\n",
                            "      });\n",
                            "    }\n",
                            "\n",
                            "    function showError(err) {\n",
                            "      outputDiv.innerHTML = `<div class=\"error\" style=\"color:red;\">${err}</div>`;\n",
                            "      throw err;\n",
                            "    }\n",
                            "\n",
                            "    function displayChart(vegaEmbed) {\n",
                            "      vegaEmbed(outputDiv, spec, embedOpt)\n",
                            "        .catch(err => showError(`Javascript Error: ${err.message}<br>This usually means there's a typo in your chart specification. See the javascript console for the full traceback.`));\n",
                            "    }\n",
                            "\n",
                            "    if(typeof define === \"function\" && define.amd) {\n",
                            "      requirejs.config({paths});\n",
                            "      require([\"vega-embed\"], displayChart, err => showError(`Error loading script: ${err.message}`));\n",
                            "    } else if (typeof vegaEmbed === \"function\") {\n",
                            "      displayChart(vegaEmbed);\n",
                            "    } else {\n",
                            "      loadScript(\"vega\")\n",
                            "        .then(() => loadScript(\"vega-lite\"))\n",
                            "        .then(() => loadScript(\"vega-embed\"))\n",
                            "        .catch(showError)\n",
                            "        .then(() => displayChart(vegaEmbed));\n",
                            "    }\n",
                            "  })({\"config\": {\"view\": {\"continuousWidth\": 400, \"continuousHeight\": 300}}, \"data\": {\"name\": \"data-02813dfa6c56ae0621a8c21c4a4a6c80\"}, \"mark\": {\"type\": \"line\", \"point\": true}, \"encoding\": {\"color\": {\"type\": \"nominal\", \"field\": \"set\"}, \"x\": {\"type\": \"quantitative\", \"field\": \"epoch\", \"scale\": {\"domain\": [0, 1]}}, \"y\": {\"type\": \"quantitative\", \"field\": \"score\", \"scale\": {\"domain\": [0, 1]}}}, \"title\": [\"Model: von Bertalanffy\", \"Parameters: [0.972 8.281 0.061]\", \"Model MSE 0.001\"], \"$schema\": \"https://vega.github.io/schema/vega-lite/v4.8.1.json\", \"datasets\": {\"data-02813dfa6c56ae0621a8c21c4a4a6c80\": [{\"set\": \"actual\", \"epoch\": 0.06, \"score\": 0.025}, {\"set\": \"actual\", \"epoch\": 0.07, \"score\": 0.05}, {\"set\": \"actual\", \"epoch\": 0.08, \"score\": 0.15}, {\"set\": \"actual\", \"epoch\": 0.09, \"score\": 0.2}, {\"set\": \"actual\", \"epoch\": 0.1, \"score\": 0.25}, {\"set\": \"actual\", \"epoch\": 0.2, \"score\": 0.675}, {\"set\": \"actual\", \"epoch\": 0.3, \"score\": 0.875}, {\"set\": \"actual\", \"epoch\": 0.4, \"score\": 0.9}, {\"set\": \"actual\", \"epoch\": 0.5, \"score\": 0.9}, {\"set\": \"actual\", \"epoch\": 0.6, \"score\": 0.925}, {\"set\": \"actual\", \"epoch\": 0.7, \"score\": 0.975}, {\"set\": \"actual\", \"epoch\": 0.8, \"score\": 0.975}, {\"set\": \"actual\", \"epoch\": 0.9, \"score\": 0.975}, {\"set\": \"actual\", \"epoch\": 1.0, \"score\": 0.975}, {\"set\": \"predicted\", \"epoch\": 0.06, \"score\": -0.009829374904213766}, {\"set\": \"predicted\", \"epoch\": 0.07, \"score\": 0.06822847360437868}, {\"set\": \"predicted\", \"epoch\": 0.08, \"score\": 0.14008300818281844}, {\"set\": \"predicted\", \"epoch\": 0.09, \"score\": 0.20622721069585426}, {\"set\": \"predicted\", \"epoch\": 0.1, \"score\": 0.26711488538129063}, {\"set\": \"predicted\", \"epoch\": 0.2, \"score\": 0.6642607054270458}, {\"set\": \"predicted\", \"epoch\": 0.3, \"score\": 0.8377713149252681}, {\"set\": \"predicted\", \"epoch\": 0.4, \"score\": 0.9135770519842057}, {\"set\": \"predicted\", \"epoch\": 0.5, \"score\": 0.9466961205395359}, {\"set\": \"predicted\", \"epoch\": 0.6, \"score\": 0.9611656415089036}, {\"set\": \"predicted\", \"epoch\": 0.7, \"score\": 0.9674872878056039}, {\"set\": \"predicted\", \"epoch\": 0.8, \"score\": 0.9702491768816272}, {\"set\": \"predicted\", \"epoch\": 0.9, \"score\": 0.9714558295335223}, {\"set\": \"predicted\", \"epoch\": 1.0, \"score\": 0.9719830087873763}]}}, {\"mode\": \"vega-lite\"});\n",
                            "</script>"
                        ]
                    },
                    "metadata": {},
                    "execution_count": 4
                }
            ],
            "metadata": {}
        },
        {
            "cell_type": "markdown",
            "source": [
                "- This figure showing the result of one growth model\r\n",
                "- We choose this growth function (von Bertalanffy) becasue it fit our data well\r\n",
                "- You can explore other simulation models / condition by changing the input dataframe (df)"
            ],
            "metadata": {}
        },
        {
            "cell_type": "markdown",
            "source": [
                "## Fitting this model to entire simulation dataset\r\n",
                "Depending on your computer's speed, below chunk may need to run more than 10 minutes. You can see a estimated required time in the progress bar. "
            ],
            "metadata": {}
        },
        {
            "cell_type": "markdown",
            "source": [
                "## Fit model to all part I simulation data\r\n",
                "Basically just repeating above demo for 1250 * 6 times, and collect each model's parameter for later use."
            ],
            "metadata": {}
        },
        {
            "cell_type": "code",
            "execution_count": 5,
            "source": [
                "results = pd.DataFrame()\r\n",
                "all_code_names = raw.df.code_name.unique()\r\n",
                "all_conds = raw.df.cond.unique()\r\n",
                "\r\n",
                "# Iterate over all \"simulation ID (code_name)\" and conditions\r\n",
                "for m in tqdm(all_code_names):\r\n",
                "    for c in all_conds:\r\n",
                "        this_df = raw.get(code_name=m, cond=c, remove_zero=True)\r\n",
                "        model = GrowthModel(von_bertalanffy, this_df.epoch, this_df.score, \"von Bertalanffy\")\r\n",
                "        model.fit(bounds=(0, [1, np.inf, 1]))\r\n",
                "        \r\n",
                "        # Collect results\r\n",
                "        this_results = pd.DataFrame(\r\n",
                "            {\r\n",
                "                \"code_name\": m,\r\n",
                "                \"cond\": c,\r\n",
                "                \"mse\": model.mse,\r\n",
                "                \"max_acc\": model.params[0],\r\n",
                "                \"k\": model.params[1],\r\n",
                "                \"x0\": model.params[2]\r\n",
                "            },\r\n",
                "            index=[0]\r\n",
                "        )\r\n",
                "\r\n",
                "        results = results.append(this_results)"
            ],
            "outputs": [
                {
                    "output_type": "stream",
                    "name": "stderr",
                    "text": [
                        "100%|██████████| 1250/1250 [06:59<00:00,  2.98it/s]\n"
                    ]
                }
            ],
            "metadata": {}
        },
        {
            "cell_type": "markdown",
            "source": [
                "## Merge control parameter settings into results and export"
            ],
            "metadata": {}
        },
        {
            "cell_type": "code",
            "execution_count": 12,
            "source": [
                "control_parameters_settings = raw.df.groupby(\"code_name\").mean().reset_index()\r\n",
                "control_parameters_settings.drop(columns=[\"epoch\", \"score\"], inplace=True)\r\n",
                "results = control_parameters_settings.merge(results, on=[\"code_name\"], how=\"right\")\r\n",
                "results.to_csv(\"../../data/growth_params_1250.csv\", index=False)"
            ],
            "outputs": [],
            "metadata": {}
        }
    ],
    "metadata": {
        "orig_nbformat": 4,
        "language_info": {
            "name": "python",
            "version": "3.7.10",
            "mimetype": "text/x-python",
            "codemirror_mode": {
                "name": "ipython",
                "version": 3
            },
            "pygments_lexer": "ipython3",
            "nbconvert_exporter": "python",
            "file_extension": ".py"
        },
        "kernelspec": {
            "name": "python3",
            "display_name": "Python 3.7.10 64-bit ('base': conda)"
        },
        "interpreter": {
            "hash": "280b7e50828e23ca5d9e559e41b302061c59f2723c8a67cae862a91c4175be70"
        }
    },
    "nbformat": 4,
    "nbformat_minor": 2
}