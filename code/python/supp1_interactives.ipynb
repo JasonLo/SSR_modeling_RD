{
    "cells": [
        {
            "cell_type": "markdown",
            "source": [
                "# Supplementary material 1: Interactive plots\r\n",
                "a: part I interactive plot\r\n",
                "\r\n",
                "b: part II (expanded control parameter range) interactive plot"
            ],
            "metadata": {}
        },
        {
            "cell_type": "markdown",
            "source": [
                "## Import libraries"
            ],
            "metadata": {}
        },
        {
            "cell_type": "code",
            "execution_count": 1,
            "source": [
                "import pandas as pd\r\n",
                "import altair as alt\r\n",
                "from helper import RawData, InteractivePlot"
            ],
            "outputs": [],
            "metadata": {}
        },
        {
            "cell_type": "markdown",
            "source": [
                "## Part I interactive plot"
            ],
            "metadata": {}
        },
        {
            "cell_type": "code",
            "execution_count": 2,
            "source": [
                "df_part1 = RawData(\"../../data/data_part1_1250.csv\")\r\n",
                "plot1 = InteractivePlot(df=df_part1.get()).plot()\r\n",
                "plot1.save(\"../../results/supp1_interactive1.html\")"
            ],
            "outputs": [],
            "metadata": {}
        },
        {
            "cell_type": "markdown",
            "source": [
                "## Part II interactive plot (Expanded control parameter range)"
            ],
            "metadata": {}
        },
        {
            "cell_type": "code",
            "execution_count": 3,
            "source": [
                "df_part2 = RawData(\"../../data/data_part2_1750.csv\")\r\n",
                "plot2 = InteractivePlot(df=df_part2.get(epoch_less_than=0.3)).plot()\r\n",
                "plot2.save(\"../../results/supp1_interactive2.html\")"
            ],
            "outputs": [],
            "metadata": {}
        }
    ],
    "metadata": {
        "orig_nbformat": 4,
        "language_info": {
            "name": "python",
            "version": "3.7.10",
            "mimetype": "text/x-python",
            "codemirror_mode": {
                "name": "ipython",
                "version": 3
            },
            "pygments_lexer": "ipython3",
            "nbconvert_exporter": "python",
            "file_extension": ".py"
        },
        "kernelspec": {
            "name": "python3",
            "display_name": "Python 3.7.10 64-bit ('base': conda)"
        },
        "interpreter": {
            "hash": "280b7e50828e23ca5d9e559e41b302061c59f2723c8a67cae862a91c4175be70"
        }
    },
    "nbformat": 4,
    "nbformat_minor": 2
}