{
    "cells": [
        {
            "cell_type": "markdown",
            "source": [
                "# Supplementary material figure 2: Words and nonwords growth model's x-intercept"
            ],
            "metadata": {}
        },
        {
            "cell_type": "markdown",
            "source": [
                "## Import libraries"
            ],
            "metadata": {}
        },
        {
            "cell_type": "code",
            "execution_count": null,
            "source": [
                "import pandas as pd\r\n",
                "import altair as alt\r\n",
                "from helper import control_space_heatmap"
            ],
            "outputs": [],
            "metadata": {}
        },
        {
            "cell_type": "markdown",
            "source": [
                "## Import part I raw data"
            ],
            "metadata": {}
        },
        {
            "cell_type": "code",
            "execution_count": null,
            "source": [
                "df = pd.read_csv('../../data/growth_params_1250.csv')\r\n",
                "\r\n",
                "df_growth_word = (\r\n",
                "    df.loc[df.cond.isin([\"HF_CON\", \"LF_CON\", \"HF_INC\", \"LF_INC\"]),]\r\n",
                "    .groupby([\"hidden_units\",  \"p_noise\", \"learning_rate\"])\r\n",
                "    .mean()\r\n",
                "    .reset_index()\r\n",
                ")\r\n",
                "\r\n",
                "df_growth_nonword = (\r\n",
                "    df.loc[df.cond.isin([\"NW_UN\", \"NW_AMB\"]),]\r\n",
                "    .groupby([\"hidden_units\", \"p_noise\", \"learning_rate\"])\r\n",
                "    .mean()\r\n",
                "    .reset_index()\r\n",
                ")"
            ],
            "outputs": [],
            "metadata": {}
        },
        {
            "cell_type": "markdown",
            "source": [
                "## Word x-intercept"
            ],
            "metadata": {}
        },
        {
            "cell_type": "code",
            "execution_count": null,
            "source": [
                "plot_word = control_space_heatmap(\r\n",
                "    df_growth_word,\r\n",
                "    title=\"a. Word\",\r\n",
                "    var=\"x0\",\r\n",
                "    color_scheme=\"lightgreyred\",\r\n",
                "    domain=(0,.4),\r\n",
                "    font_size=24,\r\n",
                "    epsilon_label=\"Epsilon (panel column)\"\r\n",
                ")\r\n",
                "\r\n",
                "plot_word"
            ],
            "outputs": [],
            "metadata": {}
        },
        {
            "cell_type": "markdown",
            "source": [
                "## Nonword x-intercept"
            ],
            "metadata": {}
        },
        {
            "cell_type": "code",
            "execution_count": null,
            "source": [
                "plot_nonword = control_space_heatmap(\r\n",
                "    df_growth_nonword,\r\n",
                "    title=\"b. Nonword\",\r\n",
                "    var=\"x0\",\r\n",
                "    color_scheme=\"lightgreyred\",\r\n",
                "    domain=(0, .4),\r\n",
                "    font_size=24,\r\n",
                "    epsilon_label=\"\"\r\n",
                ")\r\n",
                "\r\n",
                "plot_nonword"
            ],
            "outputs": [],
            "metadata": {}
        }
    ],
    "metadata": {
        "orig_nbformat": 4,
        "language_info": {
            "name": "python",
            "version": "3.7.10",
            "mimetype": "text/x-python",
            "codemirror_mode": {
                "name": "ipython",
                "version": 3
            },
            "pygments_lexer": "ipython3",
            "nbconvert_exporter": "python",
            "file_extension": ".py"
        },
        "kernelspec": {
            "name": "python3",
            "display_name": "Python 3.7.10 64-bit ('base': conda)"
        },
        "interpreter": {
            "hash": "280b7e50828e23ca5d9e559e41b302061c59f2723c8a67cae862a91c4175be70"
        }
    },
    "nbformat": 4,
    "nbformat_minor": 2
}